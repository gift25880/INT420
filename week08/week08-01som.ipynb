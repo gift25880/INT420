{
 "cells": [
  {
   "cell_type": "markdown",
   "id": "47c4d8e6-15b9-446f-a5a5-9c81fb5d638e",
   "metadata": {},
   "source": [
    "## Gen 2D data "
   ]
  },
  {
   "cell_type": "code",
   "execution_count": 1,
   "id": "c5413c85-cd40-43c3-a505-0c80641c00cd",
   "metadata": {},
   "outputs": [
    {
     "data": {
      "text/plain": [
       "array([[ 1,  1],\n",
       "       [ 2,  6],\n",
       "       [ 2,  9],\n",
       "       [10,  1],\n",
       "       [10, 10]])"
      ]
     },
     "execution_count": 1,
     "metadata": {},
     "output_type": "execute_result"
    }
   ],
   "source": [
    "from sklearn_som.som import SOM\n",
    "import numpy as np\n",
    "import matplotlib.pyplot as plt\n",
    "\n",
    "X = np.array([[1, 1],[2,6], [2,9], [10,1], [10,10]])\n",
    "X"
   ]
  },
  {
   "cell_type": "code",
   "execution_count": 2,
   "id": "23229e1e-7886-4c79-bb98-bfb839a43239",
   "metadata": {},
   "outputs": [
    {
     "data": {
      "text/plain": [
       "(-5.0, 15.0)"
      ]
     },
     "execution_count": 2,
     "metadata": {},
     "output_type": "execute_result"
    },
    {
     "data": {
      "image/png": "[encoded data removed]",
      "text/plain": [
       "<Figure size 432x288 with 1 Axes>"
      ]
     },
     "metadata": {
      "needs_background": "light"
     },
     "output_type": "display_data"
    }
   ],
   "source": [
    "plt.scatter(X[:,0],X[:,1])\n",
    "plt.xlim([-5,15])\n",
    "plt.ylim([-5,15])"
   ]
  },
  {
   "cell_type": "markdown",
   "id": "888f8da4-e8d7-499b-8aa1-a994d7d5d79d",
   "metadata": {},
   "source": [
    "## Initial SOM 1D"
   ]
  },
  {
   "cell_type": "code",
   "execution_count": 3,
   "id": "3bf3ed53-e0d7-4672-bce6-e2eb7f42f39c",
   "metadata": {},
   "outputs": [],
   "source": [
    "nrow = 1\n",
    "ncol = 4\n",
    "som1d = SOM(m=nrow, n=ncol, dim=2)"
   ]
  },
  {
   "cell_type": "markdown",
   "id": "e578fe9e-7082-41a4-8f2d-a05eb59a38ca",
   "metadata": {},
   "source": [
    "### Overview the details of initiated som"
   ]
  },
  {
   "cell_type": "code",
   "execution_count": 5,
   "id": "c01fa02e-c804-48fa-b3aa-21d2b9350d85",
   "metadata": {},
   "outputs": [
    {
     "data": {
      "text/plain": [
       "array([[ 1.22922023e+00,  5.04963398e-02],\n",
       "       [ 5.76595064e-01,  7.70422367e-01],\n",
       "       [ 9.88307930e-01, -3.90446241e-04],\n",
       "       [ 1.26727061e-01,  8.64070983e-01]])"
      ]
     },
     "execution_count": 5,
     "metadata": {},
     "output_type": "execute_result"
    }
   ],
   "source": [
    "som1d.weights"
   ]
  },
  {
   "cell_type": "code",
   "execution_count": 10,
   "id": "96c594d9-1f2e-46eb-b129-a77ad57ce861",
   "metadata": {},
   "outputs": [
    {
     "data": {
      "text/plain": [
       "array([[0, 0],\n",
       "       [0, 1],\n",
       "       [0, 2],\n",
       "       [0, 3]], dtype=int64)"
      ]
     },
     "execution_count": 10,
     "metadata": {},
     "output_type": "execute_result"
    }
   ],
   "source": [
    "som1d._locations   #Lattices/Location of processing units\n"
   ]
  },
  {
   "cell_type": "code",
   "execution_count": null,
   "id": "c793d488-46da-4f58-9590-0435252a1348",
   "metadata": {},
   "outputs": [],
   "source": [
    "som1d.cluster_centers_"
   ]
  },
  {
   "cell_type": "code",
   "execution_count": 8,
   "id": "fc11be8b-2833-4c8a-aa28-6843eaf179e1",
   "metadata": {},
   "outputs": [
    {
     "data": {
      "text/plain": [
       "array([[ 1.2,  0.1],\n",
       "       [ 0.6,  0.8],\n",
       "       [ 1. , -0. ],\n",
       "       [ 0.1,  0.9]])"
      ]
     },
     "execution_count": 8,
     "metadata": {},
     "output_type": "execute_result"
    }
   ],
   "source": [
    "w = som1d.weights\n",
    "np.round(w,1)"
   ]
  },
  {
   "cell_type": "code",
   "execution_count": 12,
   "id": "ca5bf4ab-e4c7-4d5a-8722-9469f0f09fbf",
   "metadata": {},
   "outputs": [
    {
     "data": {
      "image/png": "[encoded data removed]",
      "text/plain": [
       "<Figure size 432x288 with 1 Axes>"
      ]
     },
     "metadata": {
      "needs_background": "light"
     },
     "output_type": "display_data"
    }
   ],
   "source": [
    "w = som1d.weights\n",
    "plt.axes(aspect=1)\n",
    "plt.scatter(X[:,0],X[:,1])\n",
    "plt.xlim([-5,15])\n",
    "plt.ylim([-5,15])\n",
    "\n",
    "    \n",
    "#plot weights/centers of processing units\n",
    "plt.plot(w[:,0],w[:,1],'-ro')\n",
    "for i in range(nrow*ncol): \n",
    "    plt.text(w[i,0]+.03, w[i,1]+.03, i, fontsize=9)\n",
    "\n"
   ]
  },
  {
   "cell_type": "markdown",
   "id": "6e1518a0-6e86-4ceb-a925-c2038d610293",
   "metadata": {
    "tags": []
   },
   "source": [
    "### Sampling x & Find Maching Unit"
   ]
  },
  {
   "cell_type": "code",
   "execution_count": null,
   "id": "d4df7145-370c-400a-91a4-71b537522f37",
   "metadata": {},
   "outputs": [],
   "source": [
    "np.array(X[4])"
   ]
  },
  {
   "cell_type": "code",
   "execution_count": 11,
   "id": "6af6587a-e707-499e-a2ff-94befca9804a",
   "metadata": {},
   "outputs": [
    {
     "data": {
      "text/plain": [
       "1"
      ]
     },
     "execution_count": 11,
     "metadata": {},
     "output_type": "execute_result"
    }
   ],
   "source": [
    "bmu = som1d._find_bmu(X[4])\n",
    "bmu"
   ]
  },
  {
   "cell_type": "markdown",
   "id": "04744ef1-6da0-4710-8ee1-6018f65136ab",
   "metadata": {},
   "source": [
    "## Updating/Learning"
   ]
  },
  {
   "cell_type": "code",
   "execution_count": 13,
   "id": "10a4ffe2-37ad-4a9d-852f-6bc935ca52ea",
   "metadata": {},
   "outputs": [],
   "source": [
    "som1d.fit(X,epochs=100)"
   ]
  },
  {
   "cell_type": "markdown",
   "id": "137b0f5c-6a55-4973-85a8-dc963df86d2e",
   "metadata": {},
   "source": [
    "## Visualization result of SOM 1D"
   ]
  },
  {
   "cell_type": "code",
   "execution_count": 14,
   "id": "9df30636-34b6-4664-a47d-596f92cd2760",
   "metadata": {},
   "outputs": [
    {
     "data": {
      "image/png": "[encoded data removed]",
      "text/plain": [
       "<Figure size 432x288 with 1 Axes>"
      ]
     },
     "metadata": {
      "needs_background": "light"
     },
     "output_type": "display_data"
    }
   ],
   "source": [
    "w = som1d.weights\n",
    "\n",
    "plt.axes(aspect=1)\n",
    "plt.scatter(X[:,0],X[:,1],marker='+')\n",
    "plt.xlim([-5,15])\n",
    "plt.ylim([-5,15])\n",
    "\n",
    "    \n",
    "#plot weights/centers of processing units\n",
    "plt.plot(w[:,0],w[:,1],'-ro')\n",
    "for i in range(nrow*ncol): \n",
    "    plt.text(w[i,0]+.03, w[i,1]+.03, i, fontsize=9)\n",
    "\n"
   ]
  },
  {
   "cell_type": "markdown",
   "id": "3837dfc4-4268-47dd-867a-823e2407b9ab",
   "metadata": {},
   "source": [
    "## Initial SOM 2D "
   ]
  },
  {
   "cell_type": "code",
   "execution_count": 22,
   "id": "bc757d5b-f53a-4c85-9a5a-1138c9130db9",
   "metadata": {},
   "outputs": [],
   "source": [
    "nrow = 3\n",
    "ncol = 3\n",
    "som2d = SOM(m=nrow, n=ncol , dim=2)"
   ]
  },
  {
   "cell_type": "code",
   "execution_count": 23,
   "id": "a481bfda-d317-4045-b240-aa97f98b6e11",
   "metadata": {},
   "outputs": [
    {
     "data": {
      "text/plain": [
       "array([[0, 0],\n",
       "       [0, 1],\n",
       "       [0, 2],\n",
       "       [1, 0],\n",
       "       [1, 1],\n",
       "       [1, 2],\n",
       "       [2, 0],\n",
       "       [2, 1],\n",
       "       [2, 2]], dtype=int64)"
      ]
     },
     "execution_count": 23,
     "metadata": {},
     "output_type": "execute_result"
    }
   ],
   "source": [
    "som2d._locations   #Lattices/Location of processing units"
   ]
  },
  {
   "cell_type": "code",
   "execution_count": 24,
   "id": "a04069c9-820b-4233-82b2-7572a57daf7e",
   "metadata": {},
   "outputs": [
    {
     "data": {
      "text/plain": [
       "array([[[-1.14249564, -0.07958303],\n",
       "        [ 0.3283474 ,  0.42689921],\n",
       "        [-0.15185396,  0.2742141 ]],\n",
       "\n",
       "       [[-2.07846346,  0.16243493],\n",
       "        [-0.4477092 , -1.97087943],\n",
       "        [-0.6334223 ,  0.14666611]],\n",
       "\n",
       "       [[ 0.55208913,  0.71705067],\n",
       "        [ 0.87100247,  1.02016603],\n",
       "        [ 0.06762816,  2.80008564]]])"
      ]
     },
     "execution_count": 24,
     "metadata": {},
     "output_type": "execute_result"
    }
   ],
   "source": [
    "som2d.cluster_centers_"
   ]
  },
  {
   "cell_type": "code",
   "execution_count": 25,
   "id": "49ec2ce2-175d-4eb9-9d24-3d1b1f24809a",
   "metadata": {},
   "outputs": [
    {
     "data": {
      "text/plain": [
       "array([[-1.14249564, -0.07958303],\n",
       "       [ 0.3283474 ,  0.42689921],\n",
       "       [-0.15185396,  0.2742141 ],\n",
       "       [-2.07846346,  0.16243493],\n",
       "       [-0.4477092 , -1.97087943],\n",
       "       [-0.6334223 ,  0.14666611],\n",
       "       [ 0.55208913,  0.71705067],\n",
       "       [ 0.87100247,  1.02016603],\n",
       "       [ 0.06762816,  2.80008564]])"
      ]
     },
     "execution_count": 25,
     "metadata": {},
     "output_type": "execute_result"
    }
   ],
   "source": [
    "w = som2d.weights\n",
    "w"
   ]
  },
  {
   "cell_type": "code",
   "execution_count": 26,
   "id": "ffa85195-efd8-4b09-a5e6-7dac71154ee9",
   "metadata": {},
   "outputs": [
    {
     "data": {
      "image/png": "[encoded data removed]",
      "text/plain": [
       "<Figure size 432x288 with 1 Axes>"
      ]
     },
     "metadata": {
      "needs_background": "light"
     },
     "output_type": "display_data"
    }
   ],
   "source": [
    "plt.axes(aspect=1)\n",
    "plt.scatter(X[:,0],X[:,1])\n",
    "plt.xlim([-5,15])\n",
    "plt.ylim([-5,15])\n",
    "\n",
    "    \n",
    "#plot weights/centers of processing units\n",
    "plt.plot(w[:,0],w[:,1],'-ro')\n",
    "plt.plot(w[[0,3],0],w[[0,3],1],'-ro')\n",
    "for i in range(nrow*ncol): \n",
    "    plt.text(w[i,0]+.03, w[i,1]+.03, i, fontsize=9)\n"
   ]
  },
  {
   "cell_type": "markdown",
   "id": "8f6b332b-5a3d-463e-a9eb-6f2c5242d977",
   "metadata": {},
   "source": [
    "## TRaining"
   ]
  },
  {
   "cell_type": "code",
   "execution_count": 27,
   "id": "d89c0e93-b87a-43b7-98bf-b5954574e2a4",
   "metadata": {},
   "outputs": [],
   "source": [
    "som2d.fit(X,epochs=10000)\n"
   ]
  },
  {
   "cell_type": "markdown",
   "id": "31243de8-5f4c-4a3b-9a6f-86e400ed2298",
   "metadata": {},
   "source": [
    "## Result SOM 2D"
   ]
  },
  {
   "cell_type": "code",
   "execution_count": 28,
   "id": "6931d4bd-1080-4d01-bd0b-9c2ffa47279a",
   "metadata": {},
   "outputs": [
    {
     "data": {
      "image/png": "[encoded data removed]",
      "text/plain": [
       "<Figure size 432x288 with 1 Axes>"
      ]
     },
     "metadata": {
      "needs_background": "light"
     },
     "output_type": "display_data"
    }
   ],
   "source": [
    "w = som2d.weights\n",
    "plt.axes(aspect=1)\n",
    "plt.scatter(X[:,0],X[:,1])\n",
    "plt.xlim([-5,15])\n",
    "plt.ylim([-5,15])\n",
    "\n",
    "    \n",
    "#plot weights/centers of processing units\n",
    "plt.plot(w[0:3,0],w[0:3,1],'-ro')\n",
    "plt.plot(w[3:6,0],w[3:6,1],'-ro')\n",
    "plt.plot(w[6:9,0],w[6:9,1],'-ro')\n",
    "\n",
    "plt.plot(w[[0,3,6],0],w[[0,3,6],1],'-ro')\n",
    "plt.plot(w[[1,4,7],0],w[[1,4,7],1],'-ro')\n",
    "plt.plot(w[[2,5,8],0],w[[2,5,8],1],'-ro')\n",
    "\n",
    "for i in range(nrow*ncol): \n",
    "    plt.text(w[i,0]+.03, w[i,1]+.03, i, fontsize=9)\n",
    "    "
   ]
  },
  {
   "cell_type": "code",
   "execution_count": 29,
   "id": "fd28452f-eb04-4aac-95cf-1d01e946487d",
   "metadata": {},
   "outputs": [
    {
     "data": {
      "text/plain": [
       "array([[[1.3903508 , 2.40216838],\n",
       "        [1.85217954, 5.57857408],\n",
       "        [2.09179686, 8.130128  ]],\n",
       "\n",
       "       [[4.98070399, 1.88999432],\n",
       "        [4.22712219, 5.55594763],\n",
       "        [5.38333643, 8.83890037]],\n",
       "\n",
       "       [[9.79352191, 1.18856826],\n",
       "        [9.66311258, 5.5066324 ],\n",
       "        [9.80970031, 9.80087918]]])"
      ]
     },
     "execution_count": 29,
     "metadata": {},
     "output_type": "execute_result"
    }
   ],
   "source": [
    "som2d.cluster_centers_"
   ]
  },
  {
   "cell_type": "code",
   "execution_count": 30,
   "id": "1cf7dfec-2c03-458f-bce3-ee3af2140037",
   "metadata": {},
   "outputs": [
    {
     "data": {
      "text/plain": [
       "array([[1.3903508 , 2.40216838],\n",
       "       [1.85217954, 5.57857408],\n",
       "       [2.09179686, 8.130128  ],\n",
       "       [4.98070399, 1.88999432],\n",
       "       [4.22712219, 5.55594763],\n",
       "       [5.38333643, 8.83890037],\n",
       "       [9.79352191, 1.18856826],\n",
       "       [9.66311258, 5.5066324 ],\n",
       "       [9.80970031, 9.80087918]])"
      ]
     },
     "execution_count": 30,
     "metadata": {},
     "output_type": "execute_result"
    }
   ],
   "source": [
    "som2d.weights"
   ]
  },
  {
   "cell_type": "code",
   "execution_count": 32,
   "id": "009167cf-8dee-4749-b7d3-ccd94eaedd78",
   "metadata": {},
   "outputs": [
    {
     "name": "stdout",
     "output_type": "stream",
     "text": [
      "Periodic Boundary Conditions active.\n",
      "The weights will be initialized randomly.\n"
     ]
    }
   ],
   "source": [
    "import simpsom as sps\n",
    "\n",
    "net = sps.SOMNet(3, 3, X, PBC= True,init='random')\n"
   ]
  },
  {
   "cell_type": "code",
   "execution_count": 33,
   "id": "b857a2a8-e610-4e2a-a365-a2b583ad9d1e",
   "metadata": {},
   "outputs": [
    {
     "name": "stdout",
     "output_type": "stream",
     "text": [
      "The map will be trained with the batch algorithm.\n",
      "Training SOM... done!\n"
     ]
    }
   ],
   "source": [
    "net.train()"
   ]
  },
  {
   "cell_type": "code",
   "execution_count": null,
   "id": "613c3d83-99b5-4238-a0cf-5507f67607e2",
   "metadata": {},
   "outputs": [],
   "source": []
  },
  {
   "cell_type": "code",
   "execution_count": 34,
   "id": "a58c2747-1ad0-445d-9ed4-052091538001",
   "metadata": {},
   "outputs": [
    {
     "data": {
      "image/png": "[encoded data removed]",
      "text/plain": [
       "<Figure size 300x300 with 2 Axes>"
      ]
     },
     "metadata": {
      "needs_background": "light"
     },
     "output_type": "display_data"
    },
    {
     "data": {
      "image/png": "[encoded data removed]",
      "text/plain": [
       "<Figure size 300x300 with 2 Axes>"
      ]
     },
     "metadata": {
      "needs_background": "light"
     },
     "output_type": "display_data"
    }
   ],
   "source": [
    "net.nodes_graph(colnum=0)\n",
    "net.diff_graph()"
   ]
  },
  {
   "cell_type": "code",
   "execution_count": null,
   "id": "d985e3cd-f526-42e5-be42-a1b99caab67a",
   "metadata": {},
   "outputs": [],
   "source": [
    "projData=net.project(X)"
   ]
  },
  {
   "cell_type": "code",
   "execution_count": null,
   "id": "91fbb7c1-45dc-4650-9ed8-07f8acb556e8",
   "metadata": {},
   "outputs": [],
   "source": [
    "projData"
   ]
  },
  {
   "cell_type": "code",
   "execution_count": null,
   "id": "08c35f9e-6c48-41b8-b421-0eb119eb7eef",
   "metadata": {},
   "outputs": [],
   "source": []
  }
 ],
 "metadata": {
  "kernelspec": {
   "display_name": "Python 3 (ipykernel)",
   "language": "python",
   "name": "python3"
  },
  "language_info": {
   "codemirror_mode": {
    "name": "ipython",
    "version": 3
   },
   "file_extension": ".py",
   "mimetype": "text/x-python",
   "name": "python",
   "nbconvert_exporter": "python",
   "pygments_lexer": "ipython3",
   "version": "3.10.4"
  }
 },
 "nbformat": 4,
 "nbformat_minor": 5
}
