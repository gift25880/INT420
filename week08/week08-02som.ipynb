{
 "cells": [
  {
   "cell_type": "markdown",
   "id": "f1c72e25-06bf-4de6-ac5c-bfe40d9ce44a",
   "metadata": {},
   "source": [
    "## SOM with real data sets\n",
    "https://github.com/fcomitani/simpsom \n"
   ]
  },
  {
   "cell_type": "markdown",
   "id": "cc4ce269-7162-48fe-92b7-8d22f1485a0b",
   "metadata": {},
   "source": [
    "### Import used packages"
   ]
  },
  {
   "cell_type": "code",
   "execution_count": null,
   "id": "aecd08f9-a91e-414c-a74b-eb8e6ce8a836",
   "metadata": {},
   "outputs": [],
   "source": [
    "import matplotlib\n",
    "import matplotlib.pyplot as plt\n",
    "import numpy as np\n",
    "import pandas as pd\n",
    "from sklearn.preprocessing import StandardScaler\n",
    "\n",
    "#Import the library #https://github.com/fcomitani/SimpSOM\n",
    "import simpsom as sps\n"
   ]
  },
  {
   "cell_type": "markdown",
   "id": "b8ec2eaf-e887-4637-b295-bbab01dc7bf5",
   "metadata": {},
   "source": [
    "### Iris dataset "
   ]
  },
  {
   "cell_type": "code",
   "execution_count": null,
   "id": "6c8da295-88f3-437e-a9f7-86c4b67d85e4",
   "metadata": {},
   "outputs": [],
   "source": [
    "Iris = pd.read_csv('Iris.csv')\n",
    "labels = Iris['Species'].values\n",
    "\n",
    "Iris = Iris.drop(Iris.columns[[0,-1]],axis=1)\n",
    "\n",
    "scaler = StandardScaler()\n",
    "scaler= scaler.fit(Iris.values)\n",
    "train = scaler.transform(Iris.values)\n",
    "#print(train.shape)\n"
   ]
  },
  {
   "cell_type": "code",
   "execution_count": null,
   "id": "fef5af4c-c57c-4eb9-8dbe-02bcf3d17fc4",
   "metadata": {},
   "outputs": [],
   "source": [
    "net = sps.SOMNet(20, 20, train, PBC=True) \n",
    "net.train()\n",
    "#Save the weights to file\n",
    "net.save('som_iris_weights')\n"
   ]
  },
  {
   "cell_type": "code",
   "execution_count": null,
   "id": "4498ef00-dfb3-4569-8e64-3391c77e792a",
   "metadata": {},
   "outputs": [],
   "source": [
    "#Print a map of the network nodes and colour them according to the first feature (column number 0) of the dataset\n",
    "#and then according to the distance between each node and its neighbours.\n",
    "net.nodes_graph(colnum=0)\n",
    "net.diff_graph()"
   ]
  },
  {
   "cell_type": "code",
   "execution_count": null,
   "id": "ab6ca942-8fec-4042-9010-2d0ce20a35e6",
   "metadata": {},
   "outputs": [],
   "source": [
    "net.nodes_graph(colnum=0)\n",
    "net.diff_graph()\n",
    "net.project(train, labels=labels,out_path='./mysom')\n",
    "\n"
   ]
  },
  {
   "cell_type": "code",
   "execution_count": null,
   "id": "adffae18-d9d3-4bd7-976d-61583c790c40",
   "metadata": {},
   "outputs": [],
   "source": [
    "net2 = sps.SOMNet(10, 10, train,load_file='som_iris_weights.npy')"
   ]
  },
  {
   "cell_type": "code",
   "execution_count": null,
   "id": "ce4b9212-4d35-4dfa-850f-67ba2c910654",
   "metadata": {},
   "outputs": [],
   "source": [
    "net2.nodes_graph(colnum=0)\n",
    "net2.diff_graph()\n",
    "net2.project(train, labels=labels)\n"
   ]
  },
  {
   "cell_type": "code",
   "execution_count": null,
   "id": "5228f3b7-8fc3-4839-b658-1f4c2d017fa9",
   "metadata": {},
   "outputs": [],
   "source": [
    "print(net.node_list[0].pos)\n",
    "print(net.node_list[1].pos)\n",
    "print(net.node_list[2].pos)\n",
    "print(net.node_list[3].pos)"
   ]
  },
  {
   "cell_type": "code",
   "execution_count": null,
   "id": "0b1f5be7-fc50-4ffe-86e8-038a9353f100",
   "metadata": {},
   "outputs": [],
   "source": [
    "net.node_list[3].weights"
   ]
  },
  {
   "cell_type": "code",
   "execution_count": null,
   "id": "90027cdb-7529-4150-8c7a-d0b70e2c3335",
   "metadata": {},
   "outputs": [],
   "source": [
    "p = np.ones([100,2])"
   ]
  },
  {
   "cell_type": "code",
   "execution_count": null,
   "id": "91ab2987-0c73-40c0-8e66-e98eca2e03cd",
   "metadata": {},
   "outputs": [],
   "source": [
    "for i in range(100):\n",
    "    p[i,:] = net.node_list[i].pos"
   ]
  },
  {
   "cell_type": "code",
   "execution_count": null,
   "id": "fc57c3d7-0ee0-4375-bda7-f0085339baac",
   "metadata": {},
   "outputs": [],
   "source": [
    "plt.scatter(p[:,0],p[:,1])"
   ]
  },
  {
   "cell_type": "code",
   "execution_count": null,
   "id": "61bfb6d6-0e76-4e38-b15b-8627535d8d20",
   "metadata": {},
   "outputs": [],
   "source": [
    "projData"
   ]
  },
  {
   "cell_type": "code",
   "execution_count": null,
   "id": "e6479d84-28a5-40cc-b1e2-0466383d9a1d",
   "metadata": {},
   "outputs": [],
   "source": []
  }
 ],
 "metadata": {
  "kernelspec": {
   "display_name": "Python 3 (ipykernel)",
   "language": "python",
   "name": "python3"
  },
  "language_info": {
   "codemirror_mode": {
    "name": "ipython",
    "version": 3
   },
   "file_extension": ".py",
   "mimetype": "text/x-python",
   "name": "python",
   "nbconvert_exporter": "python",
   "pygments_lexer": "ipython3",
   "version": "3.10.4"
  }
 },
 "nbformat": 4,
 "nbformat_minor": 5
}
