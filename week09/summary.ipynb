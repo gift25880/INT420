{
 "cells": [
  {
   "cell_type": "code",
   "execution_count": 2,
   "id": "b2335da6-b96f-4784-b202-891e2ba82a8d",
   "metadata": {},
   "outputs": [],
   "source": [
    "import matplotlib\n",
    "import matplotlib.pyplot as plt\n",
    "import numpy as np\n",
    "import pandas as pd\n",
    "from sklearn.preprocessing import StandardScaler\n",
    "\n",
    "import simpsom as sps\n",
    "from sklearn import metrics #for evaluation\n",
    "\n",
    "\n"
   ]
  },
  {
   "cell_type": "code",
   "execution_count": null,
   "id": "99775bda-282d-4b67-86bd-001d6eb2b29b",
   "metadata": {},
   "outputs": [],
   "source": [
    "Iris = pd.read_csv('../week08/Iris.csv')\n",
    "print(Iris.columns)"
   ]
  },
  {
   "cell_type": "code",
   "execution_count": 90,
   "id": "ce5cd3bd-de67-426b-833e-565222b0c04c",
   "metadata": {},
   "outputs": [],
   "source": [
    "X = Iris[['SepalLengthCm', 'SepalWidthCm', 'PetalLengthCm', 'PetalWidthCm']]\n",
    "y = Iris['Species']\n",
    "\n",
    "scaler = StandardScaler()\n",
    "scaler= scaler.fit(X.values)\n",
    "\n",
    "X_scale = scaler.transform(X.values)\n",
    "\n"
   ]
  },
  {
   "cell_type": "code",
   "execution_count": 108,
   "id": "e8434f85-5de1-418d-9f98-017c06dcaabb",
   "metadata": {},
   "outputs": [
    {
     "data": {
      "text/plain": [
       "(150, 4)"
      ]
     },
     "execution_count": 108,
     "metadata": {},
     "output_type": "execute_result"
    }
   ],
   "source": [
    "X.shape"
   ]
  },
  {
   "cell_type": "markdown",
   "id": "8fda3e38-2da1-42d5-9fdb-ad02ef49c702",
   "metadata": {},
   "source": [
    "### SOM"
   ]
  },
  {
   "cell_type": "code",
   "execution_count": 91,
   "id": "10cef040-fcb8-46fb-98d9-592ccc86dc40",
   "metadata": {},
   "outputs": [
    {
     "name": "stdout",
     "output_type": "stream",
     "text": [
      "Periodic Boundary Conditions active.\n",
      "The weights will be initialized with PCA.\n",
      "The map will be trained with the batch algorithm.\n",
      "Training SOM... done!\n"
     ]
    }
   ],
   "source": [
    "net = sps.SOMNet(10, 10, X_scale, PBC=True) \n",
    "net.train()\n"
   ]
  },
  {
   "cell_type": "code",
   "execution_count": 92,
   "id": "a2385a39-0c05-4fee-b02a-5c5d98b62d5a",
   "metadata": {},
   "outputs": [
    {
     "name": "stdout",
     "output_type": "stream",
     "text": [
      "Warning: Only Quality Threshold and Density Peak clustering work with PBC\n"
     ]
    },
    {
     "data": {
      "text/plain": [
       "<Figure size 432x288 with 0 Axes>"
      ]
     },
     "metadata": {},
     "output_type": "display_data"
    }
   ],
   "source": [
    "cls = net.cluster(X_scale, clus_type='KMeans') #'MeanShift') #"
   ]
  },
  {
   "cell_type": "code",
   "execution_count": 93,
   "id": "64272887-16ff-4d5a-8c02-72e86459c023",
   "metadata": {},
   "outputs": [],
   "source": [
    "#net.nodes_graph(colnum=1)\n",
    "#net.diff_graph()"
   ]
  },
  {
   "cell_type": "code",
   "execution_count": 94,
   "id": "e9ae5853-4b26-4dd2-947f-2c2c16562395",
   "metadata": {},
   "outputs": [],
   "source": [
    "cls_id = np.zeros([len(X_scale)])"
   ]
  },
  {
   "cell_type": "code",
   "execution_count": 95,
   "id": "fe2df947-cd7c-464c-8df8-65dc20df134e",
   "metadata": {},
   "outputs": [],
   "source": [
    "for i in range(len(cls)):\n",
    "    cls_id[cls[i]] = i\n",
    "    "
   ]
  },
  {
   "cell_type": "code",
   "execution_count": 96,
   "id": "644f00d1-bc58-4a43-9116-5f4d63d6ee26",
   "metadata": {},
   "outputs": [
    {
     "data": {
      "text/plain": [
       "(150,)"
      ]
     },
     "execution_count": 96,
     "metadata": {},
     "output_type": "execute_result"
    }
   ],
   "source": [
    "cls_id.shape"
   ]
  },
  {
   "cell_type": "markdown",
   "id": "50013b66-eafc-480b-8e7b-35f502bf8e80",
   "metadata": {},
   "source": [
    "## Rand Index/Score"
   ]
  },
  {
   "cell_type": "code",
   "execution_count": 97,
   "id": "b3e0bc9a-c44b-41a9-94a5-3b209e757b9d",
   "metadata": {},
   "outputs": [
    {
     "name": "stdout",
     "output_type": "stream",
     "text": [
      "Rand Score >>  0.7365548098434005\n"
     ]
    }
   ],
   "source": [
    "\n",
    "rand_score = metrics.rand_score(y, cls_id)\n",
    "print('Rand Score >> ', rand_score)"
   ]
  },
  {
   "cell_type": "code",
   "execution_count": 111,
   "id": "8c9349f7-7797-4ff9-a79d-94c21bf40cb3",
   "metadata": {},
   "outputs": [
    {
     "data": {
      "text/plain": [
       "array([7., 0., 0., 0., 7., 2., 7., 7., 0., 0., 2., 7., 0., 0., 2., 2., 2.,\n",
       "       7., 2., 2., 7., 7., 7., 7., 7., 0., 7., 7., 7., 0., 0., 7., 2., 2.,\n",
       "       0., 0., 7., 0., 0., 7., 7., 0., 0., 7., 2., 0., 2., 0., 7., 7., 5.,\n",
       "       3., 5., 6., 4., 1., 3., 6., 5., 6., 6., 1., 6., 1., 1., 5., 1., 6.,\n",
       "       4., 6., 3., 1., 4., 1., 1., 5., 5., 5., 1., 6., 6., 6., 6., 4., 1.,\n",
       "       3., 5., 4., 1., 6., 6., 1., 6., 6., 6., 1., 1., 1., 6., 1., 3., 4.,\n",
       "       5., 4., 3., 5., 6., 5., 4., 5., 3., 4., 5., 4., 4., 3., 5., 5., 5.,\n",
       "       4., 5., 4., 5., 4., 3., 5., 4., 1., 4., 5., 5., 5., 4., 4., 4., 5.,\n",
       "       3., 3., 1., 5., 3., 5., 4., 5., 3., 5., 4., 5., 3., 1.])"
      ]
     },
     "execution_count": 111,
     "metadata": {},
     "output_type": "execute_result"
    }
   ],
   "source": [
    "cls_id"
   ]
  },
  {
   "cell_type": "code",
   "execution_count": 113,
   "id": "b73b0f9a-d560-40df-a76d-910249ebcb49",
   "metadata": {},
   "outputs": [
    {
     "data": {
      "text/plain": [
       "0         Iris-setosa\n",
       "1         Iris-setosa\n",
       "2         Iris-setosa\n",
       "3         Iris-setosa\n",
       "4         Iris-setosa\n",
       "            ...      \n",
       "145    Iris-virginica\n",
       "146    Iris-virginica\n",
       "147    Iris-virginica\n",
       "148    Iris-virginica\n",
       "149    Iris-virginica\n",
       "Name: Species, Length: 150, dtype: object"
      ]
     },
     "execution_count": 113,
     "metadata": {},
     "output_type": "execute_result"
    }
   ],
   "source": [
    "y"
   ]
  },
  {
   "cell_type": "markdown",
   "id": "2e1fe5fb-ce44-4011-8258-588f62ea150b",
   "metadata": {},
   "source": [
    "### Enropy"
   ]
  },
  {
   "cell_type": "code",
   "execution_count": 99,
   "id": "e305b73f-5cb1-459a-93b6-e6366cece226",
   "metadata": {},
   "outputs": [],
   "source": [
    "contingency_matrix = metrics.cluster.contingency_matrix(y, cls_id)"
   ]
  },
  {
   "cell_type": "code",
   "execution_count": null,
   "id": "e28e2619-d497-4a81-8078-1ce97979d8f7",
   "metadata": {},
   "outputs": [],
   "source": []
  },
  {
   "cell_type": "code",
   "execution_count": 117,
   "id": "fbb64093-7c61-4691-8494-699dc4315096",
   "metadata": {},
   "outputs": [
    {
     "name": "stdout",
     "output_type": "stream",
     "text": [
      "[[ 0 18  0  0  0 18  0 14]\n",
      " [ 8  0 17  1  5  0 16  3]\n",
      " [13  0  1 17 16  0  3  0]]\n"
     ]
    }
   ],
   "source": [
    "#print(contingency_matrix)\n",
    "\n",
    "#in class \n",
    "contingency_matrix = np.array([[0,18,0,0,0,18,0,14],\n",
    "                               [8,0,17,1,5,0,16,3],\n",
    "                               [13,0,1,17,16,0,3,0] \n",
    "                              ])\n",
    "print(contingency_matrix)"
   ]
  },
  {
   "cell_type": "code",
   "execution_count": 124,
   "id": "4e176166-f0b4-4631-a603-0d7301126c6d",
   "metadata": {},
   "outputs": [
    {
     "name": "stdout",
     "output_type": "stream",
     "text": [
      "[[0.   1.   0.   0.   0.   1.   0.   0.82]\n",
      " [0.38 0.   0.94 0.06 0.24 0.   0.84 0.18]\n",
      " [0.62 0.   0.06 0.94 0.76 0.   0.16 0.  ]]\n",
      "[[ 0.    0.    0.    0.    0.    0.    0.   -0.28]\n",
      " [-1.39  0.   -0.08 -4.17 -2.07  0.   -0.25 -2.5 ]\n",
      " [-0.69  0.   -4.17 -0.08 -0.39  0.   -2.66  0.  ]]\n",
      "e_i \n",
      " [ 0.96 -0.    0.31  0.31  0.79 -0.    0.63  0.67]\n",
      "entropy = 0.4752685702626609\n"
     ]
    }
   ],
   "source": [
    "\n",
    "mij = contingency_matrix\n",
    "mi = contingency_matrix.sum(axis=0)\n",
    "pij = mij/mi\n",
    "\n",
    "log2pij = np.log2(pij,out=np.zeros_like(pij), where=(pij!=0))\n",
    "print(pij.round(2))\n",
    "print(log2pij.round(2))\n",
    "\n",
    "ei = pij*log2pij\n",
    "ei = -1*ei.sum(axis=0)\n",
    "print('e_i \\n', ei.round(2))\n",
    "\n",
    "m = contingency_matrix.sum()\n",
    "\n",
    "entropy = ((mi/m)*ei).sum()\n",
    "print('entropy =', entropy )\n"
   ]
  },
  {
   "cell_type": "markdown",
   "id": "41901aff-72f7-4d69-8dad-e447d959cba3",
   "metadata": {},
   "source": [
    "### Purity"
   ]
  },
  {
   "cell_type": "code",
   "execution_count": 34,
   "id": "ddadc9ee-1e6e-455e-9608-70bc760b761c",
   "metadata": {},
   "outputs": [
    {
     "data": {
      "text/plain": [
       "0.86"
      ]
     },
     "execution_count": 34,
     "metadata": {},
     "output_type": "execute_result"
    }
   ],
   "source": [
    "#purity\n",
    "np.sum(np.amax(contingency_matrix, axis=0)) / np.sum(contingency_matrix)"
   ]
  },
  {
   "cell_type": "code",
   "execution_count": 33,
   "id": "cdc85453-88ef-42a0-9cca-77fdc3e4fb3c",
   "metadata": {},
   "outputs": [
    {
     "data": {
      "text/plain": [
       "array([16, 21, 17, 17, 16, 18, 11, 13], dtype=int64)"
      ]
     },
     "execution_count": 33,
     "metadata": {},
     "output_type": "execute_result"
    }
   ],
   "source": [
    "np.amax(contingency_matrix, axis=0)"
   ]
  },
  {
   "cell_type": "markdown",
   "id": "8b2d4aab-807b-45df-8388-cfaf739f7853",
   "metadata": {},
   "source": [
    "### Kmeans"
   ]
  },
  {
   "cell_type": "code",
   "execution_count": 126,
   "id": "461cafb0-b41d-4d66-b80f-c5b43e080e25",
   "metadata": {},
   "outputs": [],
   "source": [
    "import matplotlib\n",
    "import matplotlib.pyplot as plt\n",
    "import numpy as np\n",
    "import pandas as pd\n",
    "from sklearn.preprocessing import StandardScaler\n",
    "from sklearn.cluster import KMeans\n",
    "import simpsom as sps\n",
    "from sklearn import metrics #for evaluation\n",
    "from sklearn.metrics.cluster import rand_score\n"
   ]
  },
  {
   "cell_type": "code",
   "execution_count": 127,
   "id": "6b6e1fac-5cdb-44ed-b81b-1e9a0755200e",
   "metadata": {},
   "outputs": [
    {
     "name": "stdout",
     "output_type": "stream",
     "text": [
      "Index(['Id', 'SepalLengthCm', 'SepalWidthCm', 'PetalLengthCm', 'PetalWidthCm',\n",
      "       'Species'],\n",
      "      dtype='object')\n"
     ]
    }
   ],
   "source": [
    "df = pd.read_csv('Iris.csv')\n",
    "print(df.columns)"
   ]
  },
  {
   "cell_type": "code",
   "execution_count": 128,
   "id": "10654285-4b4e-48c6-a153-f818d3310ea0",
   "metadata": {},
   "outputs": [],
   "source": [
    "X = df[['SepalLengthCm', 'SepalWidthCm', 'PetalLengthCm', 'PetalWidthCm']]\n",
    "y = df[['Species']]"
   ]
  },
  {
   "cell_type": "code",
   "execution_count": 129,
   "id": "23bc8bcc-6b87-4e62-b805-4c4465a94897",
   "metadata": {},
   "outputs": [
    {
     "data": {
      "text/html": [
       "<style>#sk-container-id-3 {color: black;background-color: white;}#sk-container-id-3 pre{padding: 0;}#sk-container-id-3 div.sk-toggleable {background-color: white;}#sk-container-id-3 label.sk-toggleable__label {cursor: pointer;display: block;width: 100%;margin-bottom: 0;padding: 0.3em;box-sizing: border-box;text-align: center;}#sk-container-id-3 label.sk-toggleable__label-arrow:before {content: \"▸\";float: left;margin-right: 0.25em;color: #696969;}#sk-container-id-3 label.sk-toggleable__label-arrow:hover:before {color: black;}#sk-container-id-3 div.sk-estimator:hover label.sk-toggleable__label-arrow:before {color: black;}#sk-container-id-3 div.sk-toggleable__content {max-height: 0;max-width: 0;overflow: hidden;text-align: left;background-color: #f0f8ff;}#sk-container-id-3 div.sk-toggleable__content pre {margin: 0.2em;color: black;border-radius: 0.25em;background-color: #f0f8ff;}#sk-container-id-3 input.sk-toggleable__control:checked~div.sk-toggleable__content {max-height: 200px;max-width: 100%;overflow: auto;}#sk-container-id-3 input.sk-toggleable__control:checked~label.sk-toggleable__label-arrow:before {content: \"▾\";}#sk-container-id-3 div.sk-estimator input.sk-toggleable__control:checked~label.sk-toggleable__label {background-color: #d4ebff;}#sk-container-id-3 div.sk-label input.sk-toggleable__control:checked~label.sk-toggleable__label {background-color: #d4ebff;}#sk-container-id-3 input.sk-hidden--visually {border: 0;clip: rect(1px 1px 1px 1px);clip: rect(1px, 1px, 1px, 1px);height: 1px;margin: -1px;overflow: hidden;padding: 0;position: absolute;width: 1px;}#sk-container-id-3 div.sk-estimator {font-family: monospace;background-color: #f0f8ff;border: 1px dotted black;border-radius: 0.25em;box-sizing: border-box;margin-bottom: 0.5em;}#sk-container-id-3 div.sk-estimator:hover {background-color: #d4ebff;}#sk-container-id-3 div.sk-parallel-item::after {content: \"\";width: 100%;border-bottom: 1px solid gray;flex-grow: 1;}#sk-container-id-3 div.sk-label:hover label.sk-toggleable__label {background-color: #d4ebff;}#sk-container-id-3 div.sk-serial::before {content: \"\";position: absolute;border-left: 1px solid gray;box-sizing: border-box;top: 0;bottom: 0;left: 50%;z-index: 0;}#sk-container-id-3 div.sk-serial {display: flex;flex-direction: column;align-items: center;background-color: white;padding-right: 0.2em;padding-left: 0.2em;position: relative;}#sk-container-id-3 div.sk-item {position: relative;z-index: 1;}#sk-container-id-3 div.sk-parallel {display: flex;align-items: stretch;justify-content: center;background-color: white;position: relative;}#sk-container-id-3 div.sk-item::before, #sk-container-id-3 div.sk-parallel-item::before {content: \"\";position: absolute;border-left: 1px solid gray;box-sizing: border-box;top: 0;bottom: 0;left: 50%;z-index: -1;}#sk-container-id-3 div.sk-parallel-item {display: flex;flex-direction: column;z-index: 1;position: relative;background-color: white;}#sk-container-id-3 div.sk-parallel-item:first-child::after {align-self: flex-end;width: 50%;}#sk-container-id-3 div.sk-parallel-item:last-child::after {align-self: flex-start;width: 50%;}#sk-container-id-3 div.sk-parallel-item:only-child::after {width: 0;}#sk-container-id-3 div.sk-dashed-wrapped {border: 1px dashed gray;margin: 0 0.4em 0.5em 0.4em;box-sizing: border-box;padding-bottom: 0.4em;background-color: white;}#sk-container-id-3 div.sk-label label {font-family: monospace;font-weight: bold;display: inline-block;line-height: 1.2em;}#sk-container-id-3 div.sk-label-container {text-align: center;}#sk-container-id-3 div.sk-container {/* jupyter's `normalize.less` sets `[hidden] { display: none; }` but bootstrap.min.css set `[hidden] { display: none !important; }` so we also need the `!important` here to be able to override the default hidden behavior on the sphinx rendered scikit-learn.org. See: https://github.com/scikit-learn/scikit-learn/issues/21755 */display: inline-block !important;position: relative;}#sk-container-id-3 div.sk-text-repr-fallback {display: none;}</style><div id=\"sk-container-id-3\" class=\"sk-top-container\"><div class=\"sk-text-repr-fallback\"><pre>KMeans(n_clusters=5, random_state=0)</pre><b>In a Jupyter environment, please rerun this cell to show the HTML representation or trust the notebook. <br />On GitHub, the HTML representation is unable to render, please try loading this page with nbviewer.org.</b></div><div class=\"sk-container\" hidden><div class=\"sk-item\"><div class=\"sk-estimator sk-toggleable\"><input class=\"sk-toggleable__control sk-hidden--visually\" id=\"sk-estimator-id-3\" type=\"checkbox\" checked><label for=\"sk-estimator-id-3\" class=\"sk-toggleable__label sk-toggleable__label-arrow\">KMeans</label><div class=\"sk-toggleable__content\"><pre>KMeans(n_clusters=5, random_state=0)</pre></div></div></div></div></div>"
      ],
      "text/plain": [
       "KMeans(n_clusters=5, random_state=0)"
      ]
     },
     "execution_count": 129,
     "metadata": {},
     "output_type": "execute_result"
    }
   ],
   "source": [
    "\n",
    "model = KMeans(n_clusters=5, random_state=0)\n",
    "\n",
    "model.fit(X)\n"
   ]
  },
  {
   "cell_type": "code",
   "execution_count": 130,
   "id": "9f35303f-1164-46d3-8509-c784e4e13d07",
   "metadata": {},
   "outputs": [],
   "source": [
    "cls_id = model.labels_"
   ]
  },
  {
   "cell_type": "markdown",
   "id": "6f84c586-03f5-4037-8b92-c4d1d4432a4a",
   "metadata": {},
   "source": [
    "### Evaluate by Rand Index/Score"
   ]
  },
  {
   "cell_type": "code",
   "execution_count": 140,
   "id": "eed9ced7-3cef-47dd-9258-9761ede821b3",
   "metadata": {},
   "outputs": [
    {
     "name": "stdout",
     "output_type": "stream",
     "text": [
      "0.8432214765100671\n"
     ]
    }
   ],
   "source": [
    "#แบบที่ 1\n",
    "rand = metrics.cluster.rand_score(y['Species'],cls_id)\n",
    "print(rand)"
   ]
  },
  {
   "cell_type": "code",
   "execution_count": 141,
   "id": "a7e11227-47ef-465b-8c39-f32fc0a0ace4",
   "metadata": {},
   "outputs": [
    {
     "name": "stdout",
     "output_type": "stream",
     "text": [
      "0.8432214765100671\n"
     ]
    }
   ],
   "source": [
    "#แบบที่ 2  \n",
    "#ในคลาสมีการตั้งชื่อ rand_score ซ้ำกับชื่อ ฟังก์ชัน เมื่อรันแล้วจะทำให้ overide ฟังก์ชันที่ import มาก่อนหน้า\n",
    "#เวลากดรันในครั้งถัดไป จึงมอง rand_score ไม่ใช่ฟังก์ชัน  เมื่อ import ใหม่อีกที เพื่อเรียก ฟังก์ชัน rand_score มาทำงาน \n",
    "#วิธีที่ดีสุด คือ ไม่ควรตั้งชื่อ ตัวแปร ให้เหมือนฟังก์ชัน \n",
    "#from sklearn.metrics.cluster import rand_score\n",
    "\n",
    "rand = rand_score(y['Species'],cls_id)  #ไม่ควรตั้งชื่อ ตัวแปร ซ้ำกับชื่อฟังก์ชัน \n",
    "print(rand)"
   ]
  },
  {
   "cell_type": "markdown",
   "id": "66062980-1a54-473d-a4f7-6d700d518fe9",
   "metadata": {},
   "source": [
    "### Hirarchical Clustering"
   ]
  },
  {
   "cell_type": "code",
   "execution_count": 27,
   "id": "d5914f51-770d-4361-9ad3-4f89f3c6add5",
   "metadata": {},
   "outputs": [
    {
     "data": {
      "text/plain": [
       "(150,)"
      ]
     },
     "execution_count": 27,
     "metadata": {},
     "output_type": "execute_result"
    }
   ],
   "source": [
    "cls_id.shape"
   ]
  },
  {
   "cell_type": "code",
   "execution_count": 31,
   "id": "3a8178ea-de16-4ffb-8324-cffb0129ea80",
   "metadata": {},
   "outputs": [
    {
     "data": {
      "text/plain": [
       "0.8432214765100671"
      ]
     },
     "execution_count": 31,
     "metadata": {},
     "output_type": "execute_result"
    }
   ],
   "source": [
    "metrics.cluster.rand_score(y['Species'].values,cls_id)"
   ]
  },
  {
   "cell_type": "code",
   "execution_count": null,
   "id": "16ef50ef-495c-4357-a198-d4eb1ad7e826",
   "metadata": {},
   "outputs": [],
   "source": []
  }
 ],
 "metadata": {
  "kernelspec": {
   "display_name": "Python 3.10.6 64-bit",
   "language": "python",
   "name": "python3"
  },
  "language_info": {
   "codemirror_mode": {
    "name": "ipython",
    "version": 3
   },
   "file_extension": ".py",
   "mimetype": "text/x-python",
   "name": "python",
   "nbconvert_exporter": "python",
   "pygments_lexer": "ipython3",
   "version": "3.10.6"
  },
  "vscode": {
   "interpreter": {
    "hash": "43dca14d2b4a044ba4bacc4278e553dbc37884e4099f61bd3f343eff0761f0c1"
   }
  }
 },
 "nbformat": 4,
 "nbformat_minor": 5
}
