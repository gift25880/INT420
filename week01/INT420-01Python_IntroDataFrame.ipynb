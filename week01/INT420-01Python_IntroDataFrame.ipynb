{
 "cells": [
  {
   "cell_type": "markdown",
   "id": "fa5437bf-e77a-4cb4-8f8d-8693aa6cfa42",
   "metadata": {},
   "source": [
    "# INT420 : Intro & Data Frame \n",
    "\n",
    "## Installations\n",
    "* https://www.python.org\n",
    "* https://pypi.org/project/pip  \n",
    "* https://pypi.org/project/jupyterlab  \n",
    "\n",
    "\n",
    "### Used Packages\n",
    "* https://pypi.org/project/numpy \n",
    "* https://pypi.org/project/pandas\n",
    "* https://pypi.org/project/openpyxl\n",
    "* https://pypi.org/project/matplotlib\n"
   ]
  },
  {
   "cell_type": "markdown",
   "id": "a3d115e9-e511-4b8a-8926-13aee23fe333",
   "metadata": {},
   "source": [
    "## Data sets \n",
    "- https://data.go.th/dataset\n",
    "- https://archive.ics.uci.edu/ml/datasets.php\n",
    "- https://www.kaggle.com/datasets\n"
   ]
  },
  {
   "cell_type": "markdown",
   "id": "44dc0fa5-5e6a-4181-81fb-b318a6eada31",
   "metadata": {
    "tags": []
   },
   "source": [
    "## Data Types in Tearm of Stures \n",
    "- Structured data \n",
    "\n",
    "- Unstructured data \n",
    "\n",
    "- Semi-Structured data\n"
   ]
  },
  {
   "cell_type": "markdown",
   "id": "68ecb163-7b10-461a-827b-8ab0e7e94894",
   "metadata": {},
   "source": [
    "# Structured data"
   ]
  },
  {
   "cell_type": "code",
   "execution_count": null,
   "id": "a66ec398-6e2e-4907-8c4c-bd8bffc08fe3",
   "metadata": {},
   "outputs": [],
   "source": [
    "import pandas as pd \n",
    "\n",
    "data = pd.read_csv(\"week01/e-shop-data/e-shop-clothing-2008.csv\", sep = ';')\n",
    "data.head()\n"
   ]
  },
  {
   "cell_type": "code",
   "execution_count": null,
   "id": "48821a7c-cda8-40f8-9abb-08062c806fbd",
   "metadata": {},
   "outputs": [],
   "source": [
    "data = pd.read_csv(\"https://data.go.th/dataset/5b1fb1cf-7ddf-4194-89be-c2658fdcd7a8/resource/152ed762-3c69-465e-a5ae-e592540559d8/download/sars-cov-2-variants-dmsc_290765.csv\")\n",
    "data.head()\n"
   ]
  },
  {
   "cell_type": "code",
   "execution_count": null,
   "id": "be2c47f8-8d50-47a3-ac2f-7672173e39d7",
   "metadata": {},
   "outputs": [],
   "source": [
    "\n",
    "data = pd.read_excel(\"https://data.go.th/dataset/fd781923-6c64-4cbc-90b8-83ad77c96ecd/resource/8364f303-8f2f-4693-aa0c-2c96dc7cb075/download/-..-65.xlsx\")\n",
    "data.tail()\n"
   ]
  },
  {
   "cell_type": "markdown",
   "id": "99598f37-32be-4b1f-a417-0bbda3c8185c",
   "metadata": {},
   "source": [
    "# Unstructured data"
   ]
  },
  {
   "cell_type": "code",
   "execution_count": null,
   "id": "f09847c4-3a47-4936-8117-f5e2fb9c4a07",
   "metadata": {},
   "outputs": [],
   "source": [
    "data = pd.read_csv(\"week01/tweets-data-covid19/covid19_tweets.csv\")\n",
    "data.head()"
   ]
  },
  {
   "cell_type": "code",
   "execution_count": null,
   "id": "662cd6d4-6681-40f4-8954-e2d8157c4495",
   "metadata": {},
   "outputs": [],
   "source": [
    "texts = data[\"text\"]\n",
    "texts"
   ]
  },
  {
   "cell_type": "code",
   "execution_count": null,
   "id": "d7c0c000-92c0-4fda-9368-0bfa0ecc3287",
   "metadata": {},
   "outputs": [],
   "source": [
    "print(texts[0:5])"
   ]
  },
  {
   "cell_type": "markdown",
   "id": "614b0e05-2b69-4030-8e13-ae1f2aa15f0b",
   "metadata": {},
   "source": [
    "# Semi-structured data"
   ]
  },
  {
   "cell_type": "code",
   "execution_count": null,
   "id": "2b61c7c9-2ec1-4d4b-9381-0315c20ec7e3",
   "metadata": {},
   "outputs": [],
   "source": [
    "#https://www.kaggle.com/datasets/datasnaek/youtube\n",
    "data = pd.read_json(\"week01/datajson/GB_category_id.json\")\n",
    "print(data.size)\n",
    "data.head()"
   ]
  },
  {
   "cell_type": "code",
   "execution_count": null,
   "id": "ec1b4269-a8ff-4198-b0aa-43214a518659",
   "metadata": {},
   "outputs": [],
   "source": [
    "print(data[\"items\"][0])\n",
    "data[\"items\"].head()"
   ]
  },
  {
   "cell_type": "code",
   "execution_count": null,
   "id": "4bc44ff2-488d-47ce-941b-1bb67eccfe3a",
   "metadata": {},
   "outputs": [],
   "source": [
    "print(data[\"items\"][0])"
   ]
  },
  {
   "cell_type": "code",
   "execution_count": null,
   "id": "2d0d86f7-a5cc-439b-a2de-29dcf4da66f1",
   "metadata": {},
   "outputs": [],
   "source": [
    "print(data[\"items\"][0]['snippet'])"
   ]
  },
  {
   "cell_type": "code",
   "execution_count": null,
   "id": "221f3b81-0cda-4bf6-8d5a-fa8bd3a6a2dc",
   "metadata": {},
   "outputs": [],
   "source": [
    "print(data[\"items\"][0]['snippet']['title'])"
   ]
  },
  {
   "cell_type": "code",
   "execution_count": null,
   "id": "661a0f3f-16ee-4b1d-9f84-7b934f29e394",
   "metadata": {},
   "outputs": [],
   "source": [
    "data = pd.read_csv(\"week01/tweets-data-covid19/covid19_tweets.csv\")\n",
    "data.dtypes\n"
   ]
  },
  {
   "cell_type": "markdown",
   "id": "f2d88b6d-ab0f-4a92-9b67-c4b9a87780fc",
   "metadata": {},
   "source": [
    "## Data Frame \n"
   ]
  },
  {
   "cell_type": "markdown",
   "id": "6d0a2320-491e-45e6-a9e3-ab3a51141891",
   "metadata": {},
   "source": [
    "### Checking Data Types\n"
   ]
  },
  {
   "cell_type": "code",
   "execution_count": null,
   "id": "358a299d-cdd1-4163-8cb9-671f05472e62",
   "metadata": {},
   "outputs": [],
   "source": [
    "data = pd.read_csv(\"week01/tweets-data-covid19/covid19_tweets.csv\")\n",
    "data.dtypes"
   ]
  },
  {
   "cell_type": "markdown",
   "id": "ce48b057-fb74-490a-ade0-de82977688f8",
   "metadata": {},
   "source": [
    "### Column names"
   ]
  },
  {
   "cell_type": "code",
   "execution_count": null,
   "id": "295b900e-75c6-4dbb-afff-d8a129213d37",
   "metadata": {},
   "outputs": [],
   "source": [
    "data.columns"
   ]
  },
  {
   "cell_type": "markdown",
   "id": "909182ee-3e3f-43f0-b9e2-cd2796830b4e",
   "metadata": {},
   "source": [
    "### Dropping"
   ]
  },
  {
   "cell_type": "code",
   "execution_count": null,
   "id": "0e78a52c-76f4-42aa-a9c1-0822f955c733",
   "metadata": {},
   "outputs": [],
   "source": [
    "data2 = data.drop(columns = [\"user_verified\",\"is_retweet\", \"user_name\"])\n",
    "data2.head()"
   ]
  },
  {
   "cell_type": "markdown",
   "id": "ec9d8807-3557-42be-91e4-41b8d8a40f5a",
   "metadata": {},
   "source": [
    "### Column Selecting"
   ]
  },
  {
   "cell_type": "code",
   "execution_count": null,
   "id": "30b82c90-c6a5-40d2-98f8-1f24cae15809",
   "metadata": {},
   "outputs": [],
   "source": [
    "data3 = data[[\"user_followers\",\"user_friends\",\"user_favourites\"]]  \n",
    "data3.head()"
   ]
  },
  {
   "cell_type": "markdown",
   "id": "554bc14c-291d-4bbf-9065-9c697fc33e86",
   "metadata": {},
   "source": [
    "## Operation "
   ]
  },
  {
   "cell_type": "code",
   "execution_count": null,
   "id": "6e8d27c6-531b-4722-b7de-13e9ea4a6520",
   "metadata": {},
   "outputs": [],
   "source": [
    "data3.mean()"
   ]
  },
  {
   "cell_type": "code",
   "execution_count": null,
   "id": "bd396314-d1a1-4676-b7a2-46970ca0c6db",
   "metadata": {},
   "outputs": [],
   "source": [
    "data3.max()"
   ]
  },
  {
   "cell_type": "markdown",
   "id": "d40cac65-46df-40c2-8b82-598daf61300a",
   "metadata": {},
   "source": [
    "## Basic Exploration"
   ]
  },
  {
   "cell_type": "code",
   "execution_count": null,
   "id": "626de429-bb76-4122-a0d1-12cc4354a0cd",
   "metadata": {},
   "outputs": [],
   "source": [
    "data3.plot()"
   ]
  },
  {
   "cell_type": "code",
   "execution_count": null,
   "id": "4c4e2dd1-2870-43f9-a304-cd966977bff9",
   "metadata": {},
   "outputs": [],
   "source": [
    "data3[\"user_followers\"].plot()"
   ]
  },
  {
   "cell_type": "markdown",
   "id": "0a4a1fa8-e8f8-410e-a2cf-0a6244cc0dd6",
   "metadata": {},
   "source": [
    "## Grouping"
   ]
  },
  {
   "cell_type": "code",
   "execution_count": null,
   "id": "f7058b0f-4364-43fd-aec9-43ff1a9c7dd4",
   "metadata": {},
   "outputs": [],
   "source": [
    "data.head()"
   ]
  },
  {
   "cell_type": "code",
   "execution_count": null,
   "id": "6d5b4d36-edd1-44e7-a4c5-a387cf991e2e",
   "metadata": {},
   "outputs": [],
   "source": [
    "df = data.groupby(\"user_location\").sum()\n",
    "df.head(10)"
   ]
  },
  {
   "cell_type": "code",
   "execution_count": null,
   "id": "ccc6a405-e7f9-4e47-b106-e130d11c3e4c",
   "metadata": {},
   "outputs": [],
   "source": []
  }
 ],
 "metadata": {
  "kernelspec": {
   "display_name": "Python 3 (ipykernel)",
   "language": "python",
   "name": "python3"
  },
  "language_info": {
   "codemirror_mode": {
    "name": "ipython",
    "version": 3
   },
   "file_extension": ".py",
   "mimetype": "text/x-python",
   "name": "python",
   "nbconvert_exporter": "python",
   "pygments_lexer": "ipython3",
   "version": "3.10.4"
  }
 },
 "nbformat": 4,
 "nbformat_minor": 5
}
